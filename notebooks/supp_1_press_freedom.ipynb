{
 "cells": [
  {
   "cell_type": "markdown",
   "metadata": {},
   "source": [
    "# Political freedom data\n",
    "\n",
    "We want to compare the types of AI research in countries with different levels of political freedom.\n",
    "\n",
    "One of our hypotheses is that countries with less political freedoms are developing particular types of AI which could be used for surveillance etc.\n",
    "\n",
    "We use the Freedom in the World dataset, which we obtain [here](https://freedomhouse.org/content/freedom-world-data-and-resources)"
   ]
  },
  {
   "cell_type": "markdown",
   "metadata": {},
   "source": [
    "## Preamble"
   ]
  },
  {
   "cell_type": "code",
   "execution_count": null,
   "metadata": {},
   "outputs": [],
   "source": [
    "%run notebook_preamble.ipy"
   ]
  },
  {
   "cell_type": "markdown",
   "metadata": {},
   "source": [
    "## 1. Load data"
   ]
  },
  {
   "cell_type": "code",
   "execution_count": null,
   "metadata": {},
   "outputs": [],
   "source": [
    "data = requests.get('https://freedomhouse.org/sites/default/files/Country%20and%20Territory%20Ratings%20and%20Statuses%20FIW1973-2018.xlsx')\n",
    "\n",
    "with open(f'../data/external/{today_str}_press_freedom.xls','wb') as outfile:\n",
    "    outfile.write(data.content)"
   ]
  },
  {
   "cell_type": "code",
   "execution_count": null,
   "metadata": {},
   "outputs": [],
   "source": [
    "data = pd.read_excel('../data/external/19_7_2019_press_freedom.xls',sheet_name=1)"
   ]
  },
  {
   "cell_type": "markdown",
   "metadata": {},
   "source": [
    "## 2. Process and save data"
   ]
  },
  {
   "cell_type": "code",
   "execution_count": null,
   "metadata": {},
   "outputs": [],
   "source": [
    "def clean_freedom_data(data,year):\n",
    "    '''\n",
    "    Extracts clean country scores from the dataset.\n",
    "    \n",
    "    '''\n",
    "    \n",
    "    \n",
    "    data = data.set_index('Survey Edition')\n",
    "    \n",
    "    cols = list(data.columns)\n",
    "    \n",
    "    year_location = cols.index(year)\n",
    "    \n",
    "    relevant = data.iloc[2:,[year_location,year_location+1,year_location+2]].reset_index(drop=False)\n",
    "    \n",
    "    \n",
    "    relevant.columns = ['country','pr','cl','status']\n",
    "    \n",
    "    \n",
    "    \n",
    "    relevant = relevant.applymap(lambda x: np.nan if x == '-' else x)\n",
    "    \n",
    "    relevant['year']=year\n",
    "    \n",
    "    return(relevant)\n",
    "    \n",
    "    "
   ]
  },
  {
   "cell_type": "code",
   "execution_count": null,
   "metadata": {},
   "outputs": [],
   "source": [
    "pf_clean = pd.concat([clean_freedom_data(data,y) for y in [2016,2017,2018]])\n",
    "\n",
    "pivot = pf_clean.pivot_table(index='country',columns='year',values='cl')\n",
    "pivot.mean()\n",
    "\n"
   ]
  },
  {
   "cell_type": "markdown",
   "metadata": {},
   "source": [
    "The score is growing - this represents a decline in political liberties"
   ]
  },
  {
   "cell_type": "code",
   "execution_count": null,
   "metadata": {},
   "outputs": [],
   "source": [
    "pf_2018.to_csv(f'../data/processed/{today_str}_freedom_data.csv',index_label=False)"
   ]
  },
  {
   "cell_type": "code",
   "execution_count": null,
   "metadata": {},
   "outputs": [],
   "source": []
  }
 ],
 "metadata": {
  "language_info": {
   "name": "python",
   "pygments_lexer": "ipython3"
  }
 },
 "nbformat": 4,
 "nbformat_minor": 2
}
