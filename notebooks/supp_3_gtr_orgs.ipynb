{
 "cells": [
  {
   "cell_type": "markdown",
   "metadata": {},
   "source": [
    "# GtR organisations and sectors\n",
    "\n",
    "Here we take a list of GtR organisations matched with Companies House and extract their SIC codes and sizes.\n",
    "\n",
    "We will extract the SIC codes using a 4-digit sic code - Nesta segment lookup"
   ]
  },
  {
   "cell_type": "markdown",
   "metadata": {},
   "source": [
    "# Preamble"
   ]
  },
  {
   "cell_type": "code",
   "execution_count": null,
   "metadata": {},
   "outputs": [],
   "source": [
    "%run notebook_preamble.ipy"
   ]
  },
  {
   "cell_type": "markdown",
   "metadata": {},
   "source": [
    "# Load data"
   ]
  },
  {
   "cell_type": "code",
   "execution_count": null,
   "metadata": {},
   "outputs": [],
   "source": [
    "# This is the GtR-CH match\n",
    "\n",
    "gtr_ch_matched = pd.read_csv('../data/external/gtr_house_metadata.csv',dtype={'company_number':str})"
   ]
  },
  {
   "cell_type": "code",
   "execution_count": null,
   "metadata": {},
   "outputs": [],
   "source": [
    "gtr_ch_matched.columns"
   ]
  },
  {
   "cell_type": "code",
   "execution_count": null,
   "metadata": {},
   "outputs": [],
   "source": [
    "# This is the 4-digit sic - industry segment lookup\n",
    "\n",
    "industry_lookup = pd.read_csv('../data/external/industry_cluster_lookup_feb_2017.csv',\n",
    "                             dtype={'sic_4':str})"
   ]
  },
  {
   "cell_type": "code",
   "execution_count": null,
   "metadata": {},
   "outputs": [],
   "source": [
    "# And this is the Companies House data\n",
    "\n",
    "ch = pd.read_csv('../data/external/ch_data/BasicCompanyDataAsOneFile-2019-07-01.csv',dtype={'CompanyNumber':str})\n"
   ]
  },
  {
   "cell_type": "code",
   "execution_count": null,
   "metadata": {},
   "outputs": [],
   "source": [
    "ch.columns = [x.lower().strip() for x in ch.columns]"
   ]
  },
  {
   "cell_type": "code",
   "execution_count": null,
   "metadata": {},
   "outputs": [],
   "source": [
    "ch = ch[['companyname','companynumber','companystatus','regaddress.postcode','siccode.sictext_1']]"
   ]
  },
  {
   "cell_type": "markdown",
   "metadata": {},
   "source": [
    "## Merge"
   ]
  },
  {
   "cell_type": "code",
   "execution_count": null,
   "metadata": {},
   "outputs": [],
   "source": [
    "gtr_ch_merged = pd.merge(gtr_ch_matched,ch,left_on='company_number',right_on='companynumber')"
   ]
  },
  {
   "cell_type": "markdown",
   "metadata": {},
   "source": [
    "Some missing companies"
   ]
  },
  {
   "cell_type": "code",
   "execution_count": null,
   "metadata": {},
   "outputs": [],
   "source": [
    "missing_numbers = set(gtr_ch_matched['company_number'])-set(ch['companynumber'])"
   ]
  },
  {
   "cell_type": "code",
   "execution_count": null,
   "metadata": {},
   "outputs": [],
   "source": [
    "len(missing_numbers)"
   ]
  },
  {
   "cell_type": "markdown",
   "metadata": {},
   "source": [
    "Check with Alex what these could be"
   ]
  },
  {
   "cell_type": "code",
   "execution_count": null,
   "metadata": {},
   "outputs": [],
   "source": [
    "#Exterct four digit sic codes from the five digits\n",
    "\n",
    "gtr_ch_merged['sic'] = [x.split(' ')[0] for x in gtr_ch_merged['siccode.sictext_1']]\n",
    "\n",
    "#Deal with the presence of SIC codes with different lengths\n",
    "gtr_ch_merged['sic_4'] = [x if len(x)==4 else x[:-1] if len(x)==5 else x+'0' for x in gtr_ch_merged['sic']] "
   ]
  },
  {
   "cell_type": "code",
   "execution_count": null,
   "metadata": {},
   "outputs": [],
   "source": [
    "merged_w_segments = pd.merge(gtr_ch_merged,industry_lookup,left_on='sic_4',right_on='sic_4')"
   ]
  },
  {
   "cell_type": "code",
   "execution_count": null,
   "metadata": {},
   "outputs": [],
   "source": [
    "merged_w_segments.head()"
   ]
  },
  {
   "cell_type": "code",
   "execution_count": null,
   "metadata": {},
   "outputs": [],
   "source": [
    "#There are a few sic codes missing from our lookup - unclear why\n",
    "missing_sics = set(gtr_ch_merged['sic_4'])-set(industry_lookup['sic_4'])"
   ]
  },
  {
   "cell_type": "markdown",
   "metadata": {},
   "source": [
    "## Read the link table matching projects to organisations"
   ]
  },
  {
   "cell_type": "code",
   "execution_count": null,
   "metadata": {},
   "outputs": [],
   "source": [
    "link = pd.read_csv('../data/external/gtr_link_table.csv')"
   ]
  },
  {
   "cell_type": "code",
   "execution_count": null,
   "metadata": {},
   "outputs": [],
   "source": [
    "link.columns"
   ]
  },
  {
   "cell_type": "code",
   "execution_count": null,
   "metadata": {},
   "outputs": [],
   "source": [
    "project_org_match = pd.merge(merged_w_segments,link,left_on='id',right_on='id')"
   ]
  },
  {
   "cell_type": "code",
   "execution_count": null,
   "metadata": {},
   "outputs": [],
   "source": [
    "# Finally - turn this into a project - org lookup"
   ]
  },
  {
   "cell_type": "code",
   "execution_count": null,
   "metadata": {},
   "outputs": [],
   "source": [
    "project_sectors = pd.concat([project_org_match.groupby('project_id')[var].apply(lambda x: list(x)) for var in \n",
    "                             ['companyname','cluster','sic_4','descr']],axis=1)"
   ]
  },
  {
   "cell_type": "code",
   "execution_count": null,
   "metadata": {},
   "outputs": [],
   "source": [
    "project_sectors.to_csv(f'../data/processed/{today_str}_gtr_organisations_industries_2.csv',compression='zip')"
   ]
  },
  {
   "cell_type": "code",
   "execution_count": null,
   "metadata": {},
   "outputs": [],
   "source": [
    "project_sectors"
   ]
  },
  {
   "cell_type": "code",
   "execution_count": null,
   "metadata": {},
   "outputs": [],
   "source": [
    "comp_names = [x[0].lower() for x in project_sectors['companyname']]\n",
    "\n",
    "has_bbc = [x for x in comp_names if any(val in x for val in ['bbc','broadcasting'])]"
   ]
  },
  {
   "cell_type": "code",
   "execution_count": null,
   "metadata": {},
   "outputs": [],
   "source": [
    "has_bbc"
   ]
  },
  {
   "cell_type": "code",
   "execution_count": null,
   "metadata": {},
   "outputs": [],
   "source": []
  }
 ],
 "metadata": {
  "language_info": {
   "name": "python",
   "pygments_lexer": "ipython3"
  }
 },
 "nbformat": 4,
 "nbformat_minor": 2
}
